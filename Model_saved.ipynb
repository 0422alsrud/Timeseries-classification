{
  "nbformat": 4,
  "nbformat_minor": 0,
  "metadata": {
    "colab": {
      "provenance": [],
      "authorship_tag": "ABX9TyMx5gyE5ZZF13ajsDwjvdqA",
      "include_colab_link": true
    },
    "kernelspec": {
      "name": "python3",
      "display_name": "Python 3"
    },
    "language_info": {
      "name": "python"
    }
  },
  "cells": [
    {
      "cell_type": "markdown",
      "metadata": {
        "id": "view-in-github",
        "colab_type": "text"
      },
      "source": [
        "<a href=\"https://colab.research.google.com/github/0422alsrud/Timeseries-classification/blob/main/Model_saved.ipynb\" target=\"_parent\"><img src=\"https://colab.research.google.com/assets/colab-badge.svg\" alt=\"Open In Colab\"/></a>"
      ]
    },
    {
      "cell_type": "code",
      "execution_count": null,
      "metadata": {
        "id": "mt6acZeSrA3l"
      },
      "outputs": [],
      "source": [
        "model = MIN2Net(input_shape=(1, 400, 15), num_class=2, monitor='val_loss')\n",
        "model.fit(X_train, y_train, X_val, y_val)\n",
        "\n",
        "!mkdir -p saved_model\n",
        "model.save('saved_model/my_model')\n",
        "\n",
        "# Y, evaluation = model.predict(X_test, y_test)\n",
        "# Accuracy=evaluation.get('accuracy')\n",
        "# # test_accuracy=[test_accuracy k]\n",
        "\n",
        "# print('Accuracy:',Accuracy)\n",
        "!Is saved model\n",
        "!Is saved_model/my_modelnew_model = tf.keras.models.load_model('saved_model/my_model')\n",
        "new_model.summary()\n",
        "Y, evaluation = model.predict(X_test, y_test)"
      ]
    }
  ]
}